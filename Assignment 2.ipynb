{
 "cells": [
  {
   "cell_type": "code",
   "execution_count": 1,
   "metadata": {},
   "outputs": [
    {
     "name": "stdout",
     "output_type": "stream",
     "text": [
      "Enter physics marks45\n",
      "Enter chemistry marks65\n",
      "Enter maths marks76\n",
      "Enter urdu marks89\n",
      "Enter english marks50\n",
      "B grade\n"
     ]
    }
   ],
   "source": [
    "physics = int ( input (\"Enter physics marks\"))\n",
    "chemistry = int ( input(\"Enter chemistry marks\"))\n",
    "maths = int ( input (\"Enter maths marks\"))\n",
    "urdu = int ( input (\"Enter urdu marks\"))\n",
    "english = int ( input (\"Enter english marks\"))\n",
    "percentage = ((physics + chemistry + maths + urdu + english)/500) * 100\n",
    "if percentage<100 and percentage>=80:\n",
    "    print (\"A-one garde\")\n",
    "elif percentage<80 and percentage>=70:\n",
    "    print (\"A grade\")\n",
    "elif percentage<70 and percentage>=60:\n",
    "    print (\"B grade\")\n",
    "elif percentage<60 and percentage>=50:\n",
    "    print (\"C grade\")\n",
    "elif percentage<50 and percentage>=40:\n",
    "    print (\"D grade\")\n",
    "elif percentage<40 and percentage>=0:\n",
    "    print (\"F grade\")\n",
    "else:\n",
    "    print(\"Wrong marks added\")\n",
    "    "
   ]
  },
  {
   "cell_type": "code",
   "execution_count": 2,
   "metadata": {},
   "outputs": [
    {
     "name": "stdout",
     "output_type": "stream",
     "text": [
      "Enter the number : 3\n",
      "Number is odd\n"
     ]
    }
   ],
   "source": [
    "number = int(input(\"Enter the number : \"))\n",
    "check = number%2\n",
    "if check==0 :\n",
    "    print(\"Number is even\")\n",
    "else:\n",
    "    print(\"Number is odd\")"
   ]
  },
  {
   "cell_type": "code",
   "execution_count": 3,
   "metadata": {},
   "outputs": [
    {
     "name": "stdout",
     "output_type": "stream",
     "text": [
      "Enter the number : 9990056\n",
      "Number is even\n"
     ]
    }
   ],
   "source": [
    "number = int(input(\"Enter the number : \"))\n",
    "check = number%2\n",
    "if check==0 :\n",
    "    print(\"Number is even\")\n",
    "else:\n",
    "    print(\"Number is odd\")"
   ]
  },
  {
   "cell_type": "code",
   "execution_count": 4,
   "metadata": {},
   "outputs": [
    {
     "ename": "SyntaxError",
     "evalue": "unexpected EOF while parsing (<ipython-input-4-b0db2623fea0>, line 2)",
     "output_type": "error",
     "traceback": [
      "\u001b[1;36m  File \u001b[1;32m\"<ipython-input-4-b0db2623fea0>\"\u001b[1;36m, line \u001b[1;32m2\u001b[0m\n\u001b[1;33m    len(cities\u001b[0m\n\u001b[1;37m              ^\u001b[0m\n\u001b[1;31mSyntaxError\u001b[0m\u001b[1;31m:\u001b[0m unexpected EOF while parsing\n"
     ]
    }
   ],
   "source": [
    "cities = [\"KHI\" , \"LHR\" , \"ISB\" , \"FSB\" , \"HYD\" , \"BHP\" , \"ABT\" , \"SKR\" , \"MUR\"]\n",
    "len(cities"
   ]
  },
  {
   "cell_type": "code",
   "execution_count": 5,
   "metadata": {},
   "outputs": [
    {
     "data": {
      "text/plain": [
       "9"
      ]
     },
     "execution_count": 5,
     "metadata": {},
     "output_type": "execute_result"
    }
   ],
   "source": [
    "cities = [\"KHI\" , \"LHR\" , \"ISB\" , \"FSB\" , \"HYD\" , \"BHP\" , \"ABT\" , \"SKR\" , \"MUR\"]\n",
    "len(cities)\n"
   ]
  },
  {
   "cell_type": "code",
   "execution_count": 6,
   "metadata": {},
   "outputs": [
    {
     "data": {
      "text/plain": [
       "10"
      ]
     },
     "execution_count": 6,
     "metadata": {},
     "output_type": "execute_result"
    }
   ],
   "source": [
    "cities = [\"KHI\" , \"LHR\" , \"ISB\" , \"FSB\" , \"HYD\" , \"BHP\" , \"ABT\" , \"SKR\" , \"MUR\" , \"QUE\"]\n",
    "len(cities)"
   ]
  },
  {
   "cell_type": "code",
   "execution_count": 7,
   "metadata": {},
   "outputs": [
    {
     "data": {
      "text/plain": [
       "42"
      ]
     },
     "execution_count": 7,
     "metadata": {},
     "output_type": "execute_result"
    }
   ],
   "source": [
    "list = [1 , 2 ,5 , 6 , 4 , 5 , 9 , 10 ]\n",
    "sum(list)"
   ]
  },
  {
   "cell_type": "code",
   "execution_count": 8,
   "metadata": {},
   "outputs": [
    {
     "name": "stdout",
     "output_type": "stream",
     "text": [
      "9\n"
     ]
    }
   ],
   "source": [
    "list = [1 , 2 ,5 , 6 , 4 , 5 , 9 ]\n",
    "print (max(list))"
   ]
  },
  {
   "cell_type": "code",
   "execution_count": 9,
   "metadata": {},
   "outputs": [
    {
     "name": "stdout",
     "output_type": "stream",
     "text": [
      "1\n",
      "1\n",
      "2\n",
      "3\n"
     ]
    }
   ],
   "source": [
    "x = [1, 1, 2, 3, 5, 8, 13, 21, 34, 55, 89]\n",
    "for a in x:\n",
    "    if a < 5:\n",
    "        print (a)"
   ]
  },
  {
   "cell_type": "code",
   "execution_count": null,
   "metadata": {},
   "outputs": [],
   "source": []
  }
 ],
 "metadata": {
  "kernelspec": {
   "display_name": "Python 3",
   "language": "python",
   "name": "python3"
  },
  "language_info": {
   "codemirror_mode": {
    "name": "ipython",
    "version": 3
   },
   "file_extension": ".py",
   "mimetype": "text/x-python",
   "name": "python",
   "nbconvert_exporter": "python",
   "pygments_lexer": "ipython3",
   "version": "3.7.4"
  }
 },
 "nbformat": 4,
 "nbformat_minor": 2
}
