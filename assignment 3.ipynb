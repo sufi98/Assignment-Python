{
 "cells": [
  {
   "cell_type": "code",
   "execution_count": 1,
   "metadata": {},
   "outputs": [
    {
     "name": "stdout",
     "output_type": "stream",
     "text": [
      "<class 'str'>\n",
      "<class 'int'>\n",
      "<class 'int'>\n",
      "<class 'str'>\n",
      "<class 'float'>\n"
     ]
    }
   ],
   "source": [
    "list = [\"orange\",3,5,\"apple\",1.5]\n",
    "for i in list:\n",
    "    print(type(i))"
   ]
  },
  {
   "cell_type": "code",
   "execution_count": 3,
   "metadata": {},
   "outputs": [
    {
     "name": "stdout",
     "output_type": "stream",
     "text": [
      "Enter first value 34\n",
      "Enter second value 97\n",
      "Enter operator *\n",
      "3298 answer\n"
     ]
    }
   ],
   "source": [
    "value1 = int(input ('Enter first value '))\n",
    "value2 = int(input ('Enter second value '))\n",
    "operator = input ('Enter operator ')\n",
    "if operator == '+':\n",
    "    value = value1 + value2\n",
    "    print (value,\"answer\")\n",
    "elif operator == '-':\n",
    "    value = value1 + value2\n",
    "    print (value,\"answer\")\n",
    "elif operator == '*':\n",
    "    value = value1 * value2\n",
    "    print (value,\"answer\")\n",
    "elif operator == '/':\n",
    "    value = value1/value2\n",
    "    print (value,\"answer\")\n",
    "elif operator == '^':\n",
    "    value = value1**value2\n",
    "    print (value, \"answer\")  \n",
    "else:\n",
    "    print(\"enter correct operation\")\n",
    "    "
   ]
  },
  {
   "cell_type": "code",
   "execution_count": 4,
   "metadata": {},
   "outputs": [
    {
     "name": "stdout",
     "output_type": "stream",
     "text": [
      "doesn't exists\n",
      "doesn't exists\n",
      "doesn't exists\n",
      "numeric value exists\n",
      "numeric value exists\n"
     ]
    }
   ],
   "source": [
    "list = [\"hello\" , \"hey\" , \"what's up\" , 2 , 3]\n",
    "for numeric in list:\n",
    "    if numeric == 2:\n",
    "        print (\"numeric value exists\")\n",
    "    elif numeric == 3:\n",
    "        print (\"numeric value exists\")\n",
    "    else:\n",
    "        print (\"doesn't exists\")"
   ]
  },
  {
   "cell_type": "code",
   "execution_count": 6,
   "metadata": {},
   "outputs": [
    {
     "name": "stdout",
     "output_type": "stream",
     "text": [
      "{'Name': 'Sufiyan', 'Age': '21', 'Department': 'Industrial and manufacturing', 'City': 'Karachi'}\n"
     ]
    }
   ],
   "source": [
    "Data = {\"Name\" : \"Sufiyan\",\n",
    "       \"Age\" : \"21\",\n",
    "       \"Department\" : \"Industrial and manufacturing\"}\n",
    "Data[\"City\"] = \"Karachi\"\n",
    "print(Data)"
   ]
  },
  {
   "cell_type": "code",
   "execution_count": 8,
   "metadata": {},
   "outputs": [
    {
     "name": "stdout",
     "output_type": "stream",
     "text": [
      "310\n"
     ]
    }
   ],
   "source": [
    "d = { 'a' : 200,\n",
    "    'b' : 100,\n",
    "    'c' : 10}\n",
    "sum1 = int(sum(d[item] for item in d))\n",
    "print(sum1)"
   ]
  },
  {
   "cell_type": "code",
   "execution_count": 9,
   "metadata": {},
   "outputs": [
    {
     "name": "stdout",
     "output_type": "stream",
     "text": [
      "2\n",
      "20\n",
      "4\n"
     ]
    }
   ],
   "source": [
    "ini_list = [2, 4, 10, 20, 5, 2, 20, 4]\n",
    "final_list =[]\n",
    "for num in ini_list:\n",
    "        if num not in final_list:\n",
    "            final_list.append(num)\n",
    "        else:\n",
    "            print(num)"
   ]
  },
  {
   "cell_type": "code",
   "execution_count": 10,
   "metadata": {},
   "outputs": [
    {
     "name": "stdout",
     "output_type": "stream",
     "text": [
      "3.772\n"
     ]
    }
   ],
   "source": [
    "Data = {\"Name\" : \"Sufiyan\",\n",
    "       \"Age\" : \"21\",\n",
    "       \"Department\" : \"Industrial and Manufacturing\",\n",
    "       \"cgpa\" : \"3.772\"}\n",
    "cgpa_of_student = Data[\"cgpa\"]\n",
    "print (cgpa_of_student)"
   ]
  },
  {
   "cell_type": "code",
   "execution_count": null,
   "metadata": {},
   "outputs": [],
   "source": []
  }
 ],
 "metadata": {
  "kernelspec": {
   "display_name": "Python 3",
   "language": "python",
   "name": "python3"
  },
  "language_info": {
   "codemirror_mode": {
    "name": "ipython",
    "version": 3
   },
   "file_extension": ".py",
   "mimetype": "text/x-python",
   "name": "python",
   "nbconvert_exporter": "python",
   "pygments_lexer": "ipython3",
   "version": "3.7.4"
  }
 },
 "nbformat": 4,
 "nbformat_minor": 2
}
